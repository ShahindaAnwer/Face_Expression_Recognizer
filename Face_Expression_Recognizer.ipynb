{
  "nbformat": 4,
  "nbformat_minor": 0,
  "metadata": {
    "colab": {
      "provenance": []
    },
    "kernelspec": {
      "name": "python3",
      "display_name": "Python 3"
    },
    "language_info": {
      "name": "python"
    },
    "accelerator": "GPU",
    "gpuClass": "standard"
  },
  "cells": [
    {
      "cell_type": "code",
      "execution_count": 1,
      "metadata": {
        "id": "NSyJJraK44OV"
      },
      "outputs": [],
      "source": [
        "import tensorflow as tf\n",
        "from tensorflow.keras import layers\n",
        "import numpy as np\n",
        "from matplotlib import pyplot as plt\n",
        "from pathlib import Path"
      ]
    },
    {
      "cell_type": "code",
      "source": [
        "!wget https://www.dropbox.com/s/si11cws2pyho1bp/archive.zip"
      ],
      "metadata": {
        "colab": {
          "base_uri": "https://localhost:8080/"
        },
        "id": "onXCSQ2GEqSv",
        "outputId": "d7194aba-3c76-4b3d-a626-67f6d9fca5f9"
      },
      "execution_count": 2,
      "outputs": [
        {
          "output_type": "stream",
          "name": "stdout",
          "text": [
            "--2023-02-27 23:33:14--  https://www.dropbox.com/s/si11cws2pyho1bp/archive.zip\n",
            "Resolving www.dropbox.com (www.dropbox.com)... 162.125.6.18, 2620:100:6019:18::a27d:412\n",
            "Connecting to www.dropbox.com (www.dropbox.com)|162.125.6.18|:443... connected.\n",
            "HTTP request sent, awaiting response... 302 Found\n",
            "Location: /s/raw/si11cws2pyho1bp/archive.zip [following]\n",
            "--2023-02-27 23:33:14--  https://www.dropbox.com/s/raw/si11cws2pyho1bp/archive.zip\n",
            "Reusing existing connection to www.dropbox.com:443.\n",
            "HTTP request sent, awaiting response... 302 Found\n",
            "Location: https://ucf77c5a2a7289d5e1e733a2a753.dl.dropboxusercontent.com/cd/0/inline/B3WLKngWqtV7xof-5XLkVNh7MExxkYSl3SWp1uuWyerTqfFYkc2FXIbYEkhuOx8Cf5znX6lEMiiEr7RAUInZK35zpzbrHNSf_KfjzZfEW14I-QzNCvd4zsoyLVEPIw2_wKonVsRRVe12ljckZ1Bu-TYU5mZycEYfp46w9_4joqLHnw/file# [following]\n",
            "--2023-02-27 23:33:15--  https://ucf77c5a2a7289d5e1e733a2a753.dl.dropboxusercontent.com/cd/0/inline/B3WLKngWqtV7xof-5XLkVNh7MExxkYSl3SWp1uuWyerTqfFYkc2FXIbYEkhuOx8Cf5znX6lEMiiEr7RAUInZK35zpzbrHNSf_KfjzZfEW14I-QzNCvd4zsoyLVEPIw2_wKonVsRRVe12ljckZ1Bu-TYU5mZycEYfp46w9_4joqLHnw/file\n",
            "Resolving ucf77c5a2a7289d5e1e733a2a753.dl.dropboxusercontent.com (ucf77c5a2a7289d5e1e733a2a753.dl.dropboxusercontent.com)... 162.125.7.15, 2620:100:601c:15::a27d:60f\n",
            "Connecting to ucf77c5a2a7289d5e1e733a2a753.dl.dropboxusercontent.com (ucf77c5a2a7289d5e1e733a2a753.dl.dropboxusercontent.com)|162.125.7.15|:443... connected.\n",
            "HTTP request sent, awaiting response... 302 Found\n",
            "Location: /cd/0/inline2/B3WaAYubV9TRij0cRrfbK4-K2a4NXkGe1TYyHT8DS74E7hCaFcaWWD-DQOGu3RZBlLIiM9x1vWcaECV8cnb5ZKPIGvrgbdbOCtOlRUG78fvxJLPTF8uE-W1xDSYc_X1raIy6bKRUkeokpqzXdMvV4MqtfPv8GywGdbNjJ20w61QcZsqT85f_EgZAJkAmlgNLVi7XNBaXbX_o2wcU5ps9Qt_WxOKvXpRgvYy3vmexKoP2GpYO5aBoIh8iuZcR_fhoWtyrP_cFNYCBlkNZvMHywYDA_06HcWWQSKlWX-t9tFQIU7Iv3kxfx6e9AYhj39ZS5ihdrwRdRVHvejRm_NVjnsLNNB2ZYGoFOK5cKk4ivf1_UeRMOa-lGzl-7PH_H4YMNxDAuZsRvUo_ACKpy8x8M8FLYJ3fm9ysXFzl_6CYkhRK3g/file [following]\n",
            "--2023-02-27 23:33:15--  https://ucf77c5a2a7289d5e1e733a2a753.dl.dropboxusercontent.com/cd/0/inline2/B3WaAYubV9TRij0cRrfbK4-K2a4NXkGe1TYyHT8DS74E7hCaFcaWWD-DQOGu3RZBlLIiM9x1vWcaECV8cnb5ZKPIGvrgbdbOCtOlRUG78fvxJLPTF8uE-W1xDSYc_X1raIy6bKRUkeokpqzXdMvV4MqtfPv8GywGdbNjJ20w61QcZsqT85f_EgZAJkAmlgNLVi7XNBaXbX_o2wcU5ps9Qt_WxOKvXpRgvYy3vmexKoP2GpYO5aBoIh8iuZcR_fhoWtyrP_cFNYCBlkNZvMHywYDA_06HcWWQSKlWX-t9tFQIU7Iv3kxfx6e9AYhj39ZS5ihdrwRdRVHvejRm_NVjnsLNNB2ZYGoFOK5cKk4ivf1_UeRMOa-lGzl-7PH_H4YMNxDAuZsRvUo_ACKpy8x8M8FLYJ3fm9ysXFzl_6CYkhRK3g/file\n",
            "Reusing existing connection to ucf77c5a2a7289d5e1e733a2a753.dl.dropboxusercontent.com:443.\n",
            "HTTP request sent, awaiting response... 200 OK\n",
            "Length: 63252113 (60M) [application/zip]\n",
            "Saving to: ‘archive.zip.1’\n",
            "\n",
            "archive.zip.1       100%[===================>]  60.32M  33.7MB/s    in 1.8s    \n",
            "\n",
            "2023-02-27 23:33:17 (33.7 MB/s) - ‘archive.zip.1’ saved [63252113/63252113]\n",
            "\n"
          ]
        }
      ]
    },
    {
      "cell_type": "code",
      "source": [
        "!unzip -q '/content/archive.zip'"
      ],
      "metadata": {
        "id": "Ek-R-8uSTAYq",
        "colab": {
          "base_uri": "https://localhost:8080/"
        },
        "outputId": "376d6587-b042-4e62-d054-ab7a847464b0"
      },
      "execution_count": 3,
      "outputs": [
        {
          "output_type": "stream",
          "name": "stdout",
          "text": [
            "replace test/angry/PrivateTest_10131363.jpg? [y]es, [n]o, [A]ll, [N]one, [r]ename: y\n",
            "replace test/angry/PrivateTest_10304478.jpg? [y]es, [n]o, [A]ll, [N]one, [r]ename: \n",
            "error:  invalid response [{ENTER}]\n",
            "replace test/angry/PrivateTest_10304478.jpg? [y]es, [n]o, [A]ll, [N]one, [r]ename: y\n",
            "replace test/angry/PrivateTest_1054527.jpg? [y]es, [n]o, [A]ll, [N]one, [r]ename: y\n",
            "replace test/angry/PrivateTest_10590091.jpg? [y]es, [n]o, [A]ll, [N]one, [r]ename: a\n",
            "error:  invalid response [a]\n",
            "replace test/angry/PrivateTest_10590091.jpg? [y]es, [n]o, [A]ll, [N]one, [r]ename: A\n"
          ]
        }
      ]
    },
    {
      "cell_type": "code",
      "source": [
        "train = Path('/content/train') \n",
        "test = Path('/content/test')"
      ],
      "metadata": {
        "id": "qPQNLfpsThaZ"
      },
      "execution_count": 32,
      "outputs": []
    },
    {
      "cell_type": "code",
      "source": [
        "train = list(train.glob('*/*'))\n",
        "\n",
        "train = list(map(lambda x: str(x), train))\n",
        "train[:5]"
      ],
      "metadata": {
        "colab": {
          "base_uri": "https://localhost:8080/"
        },
        "id": "F321fAsSUDd9",
        "outputId": "29db57c2-fae4-4dc9-aa8a-42c1feacde0a"
      },
      "execution_count": 5,
      "outputs": [
        {
          "output_type": "execute_result",
          "data": {
            "text/plain": [
              "['/content/train/angry/Training_62659134.jpg',\n",
              " '/content/train/angry/Training_5480720.jpg',\n",
              " '/content/train/angry/Training_66823441.jpg',\n",
              " '/content/train/angry/Training_13790669.jpg',\n",
              " '/content/train/angry/Training_57887477.jpg']"
            ]
          },
          "metadata": {},
          "execution_count": 5
        }
      ]
    },
    {
      "cell_type": "code",
      "source": [
        "def get_label(image_path):\n",
        "    return image_path.split(\"/\")[-2]\n",
        "\n",
        "train_labels = list(map(lambda x : get_label(x) , train))\n",
        "train_labels[:10]"
      ],
      "metadata": {
        "colab": {
          "base_uri": "https://localhost:8080/"
        },
        "id": "6x1paNVWWETN",
        "outputId": "1743b629-92b8-44bc-eeed-150082017a68"
      },
      "execution_count": 6,
      "outputs": [
        {
          "output_type": "execute_result",
          "data": {
            "text/plain": [
              "['angry',\n",
              " 'angry',\n",
              " 'angry',\n",
              " 'angry',\n",
              " 'angry',\n",
              " 'angry',\n",
              " 'angry',\n",
              " 'angry',\n",
              " 'angry',\n",
              " 'angry']"
            ]
          },
          "metadata": {},
          "execution_count": 6
        }
      ]
    },
    {
      "cell_type": "markdown",
      "source": [
        "Label Encoding"
      ],
      "metadata": {
        "id": "WbFkQdv_aEiP"
      }
    },
    {
      "cell_type": "code",
      "source": [
        "from sklearn import preprocessing\n",
        "encoder = preprocessing.LabelEncoder()\n",
        "train_labels = encoder.fit_transform(train_labels)\n",
        "train_labels"
      ],
      "metadata": {
        "colab": {
          "base_uri": "https://localhost:8080/"
        },
        "id": "ZC5VeZdPZGco",
        "outputId": "0a7216fd-8047-478b-a99d-045a5946f4eb"
      },
      "execution_count": 7,
      "outputs": [
        {
          "output_type": "execute_result",
          "data": {
            "text/plain": [
              "array([0, 0, 0, ..., 5, 5, 5])"
            ]
          },
          "metadata": {},
          "execution_count": 7
        }
      ]
    },
    {
      "cell_type": "markdown",
      "source": [
        "Converting integers to binary class matrix"
      ],
      "metadata": {
        "id": "DRHKIlaabJNt"
      }
    },
    {
      "cell_type": "code",
      "source": [
        "train_labels = tf.keras.utils.to_categorical(train_labels)\n",
        "train_labels"
      ],
      "metadata": {
        "colab": {
          "base_uri": "https://localhost:8080/"
        },
        "id": "MFIV2LzwaaCs",
        "outputId": "820669c0-5e6b-449b-be44-686a6b2268ec"
      },
      "execution_count": 8,
      "outputs": [
        {
          "output_type": "execute_result",
          "data": {
            "text/plain": [
              "array([[1., 0., 0., ..., 0., 0., 0.],\n",
              "       [1., 0., 0., ..., 0., 0., 0.],\n",
              "       [1., 0., 0., ..., 0., 0., 0.],\n",
              "       ...,\n",
              "       [0., 0., 0., ..., 0., 1., 0.],\n",
              "       [0., 0., 0., ..., 0., 1., 0.],\n",
              "       [0., 0., 0., ..., 0., 1., 0.]], dtype=float32)"
            ]
          },
          "metadata": {},
          "execution_count": 8
        }
      ]
    },
    {
      "cell_type": "markdown",
      "source": [
        "Splitting Data"
      ],
      "metadata": {
        "id": "QxUGN412bOkK"
      }
    },
    {
      "cell_type": "code",
      "source": [
        "from sklearn.model_selection import train_test_split\n",
        "\n",
        "train, val, train_labels, val_labels = train_test_split(train, train_labels, test_size = .2)"
      ],
      "metadata": {
        "id": "ZoIa184Ia2Jw"
      },
      "execution_count": 9,
      "outputs": []
    },
    {
      "cell_type": "code",
      "source": [
        "classTotals = train_labels.sum(axis=0)\n",
        "classWeight = classTotals.max() / classTotals\n",
        "\n",
        "class_weight = {e : weight for e , weight in enumerate(classWeight)}\n",
        "print(class_weight)"
      ],
      "metadata": {
        "colab": {
          "base_uri": "https://localhost:8080/"
        },
        "id": "olvvKIhOcd_H",
        "outputId": "4cf16fb6-a0dc-453b-a235-64018dddcb2d"
      },
      "execution_count": 10,
      "outputs": [
        {
          "output_type": "stream",
          "name": "stdout",
          "text": [
            "{0: 1.8228482, 1: 17.129412, 2: 1.7875998, 3: 1.0, 4: 1.4666331, 5: 1.5076365, 6: 2.3147855}\n"
          ]
        }
      ]
    },
    {
      "cell_type": "code",
      "metadata": {
        "id": "WayfB4DUlwwP"
      },
      "source": [
        "def load(image , label):\n",
        "    image = tf.io.read_file(image)\n",
        "    image = tf.io.decode_jpeg(image , channels = 3)\n",
        "    return image , label"
      ],
      "execution_count": 11,
      "outputs": []
    },
    {
      "cell_type": "code",
      "metadata": {
        "id": "4oJwdwPnR2iI"
      },
      "source": [
        "IMG_SIZE = 96 \n",
        "BATCH_SIZE = 32\n",
        "\n",
        "resize = tf.keras.Sequential([\n",
        "    tf.keras.layers.experimental.preprocessing.Resizing(IMG_SIZE, IMG_SIZE)          \n",
        "])\n",
        "\n",
        "data_augmentation = tf.keras.Sequential([\n",
        "    tf.keras.layers.experimental.preprocessing.RandomFlip(\"horizontal\"),\n",
        "    tf.keras.layers.experimental.preprocessing.RandomRotation(0.1),\n",
        "    tf.keras.layers.experimental.preprocessing.RandomZoom(height_factor = (-0.1, -0.05))\n",
        "])"
      ],
      "execution_count": 12,
      "outputs": []
    },
    {
      "cell_type": "code",
      "metadata": {
        "id": "rR4A_FLKl9Cp"
      },
      "source": [
        "AUTOTUNE = tf.data.experimental.AUTOTUNE\n",
        "def get_dataset(paths , labels , train = True):\n",
        "    image_paths = tf.convert_to_tensor(paths)\n",
        "    labels = tf.convert_to_tensor(labels)\n",
        "\n",
        "    image_dataset = tf.data.Dataset.from_tensor_slices(image_paths)\n",
        "    label_dataset = tf.data.Dataset.from_tensor_slices(labels)\n",
        "\n",
        "    dataset = tf.data.Dataset.zip((image_dataset , label_dataset))\n",
        "\n",
        "    dataset = dataset.map(lambda image , label : load(image , label))\n",
        "    dataset = dataset.map(lambda image, label: (resize(image), label) , num_parallel_calls=AUTOTUNE)\n",
        "    dataset = dataset.shuffle(1000)\n",
        "    dataset = dataset.batch(BATCH_SIZE)\n",
        "\n",
        "    if train:\n",
        "        dataset = dataset.map(lambda image, label: (data_augmentation(image), label) , num_parallel_calls=AUTOTUNE)\n",
        "    \n",
        "    return dataset"
      ],
      "execution_count": 13,
      "outputs": []
    },
    {
      "cell_type": "code",
      "metadata": {
        "id": "eXbkOIjjoZo4",
        "colab": {
          "base_uri": "https://localhost:8080/"
        },
        "outputId": "b06b256e-3051-436f-a0c7-6f4888bd3da6"
      },
      "source": [
        "train = get_dataset(train , train_labels)\n",
        "\n",
        "image , label = next(iter(train))\n",
        "print(image.shape)\n",
        "print(label.shape)"
      ],
      "execution_count": 14,
      "outputs": [
        {
          "output_type": "stream",
          "name": "stderr",
          "text": [
            "WARNING:tensorflow:From /usr/local/lib/python3.8/dist-packages/tensorflow/python/autograph/pyct/static_analysis/liveness.py:83: Analyzer.lamba_check (from tensorflow.python.autograph.pyct.static_analysis.liveness) is deprecated and will be removed after 2023-09-23.\n",
            "Instructions for updating:\n",
            "Lambda fuctions will be no more assumed to be used in the statement where they are used, or at least in the same block. https://github.com/tensorflow/tensorflow/issues/56089\n",
            "WARNING:tensorflow:Using a while_loop for converting RngReadAndSkip cause there is no registered converter for this op.\n",
            "WARNING:tensorflow:Using a while_loop for converting Bitcast cause there is no registered converter for this op.\n",
            "WARNING:tensorflow:Using a while_loop for converting Bitcast cause there is no registered converter for this op.\n",
            "WARNING:tensorflow:Using a while_loop for converting StatelessRandomUniformV2 cause there is no registered converter for this op.\n",
            "WARNING:tensorflow:Using a while_loop for converting ImageProjectiveTransformV3 cause there is no registered converter for this op.\n",
            "WARNING:tensorflow:Using a while_loop for converting RngReadAndSkip cause there is no registered converter for this op.\n",
            "WARNING:tensorflow:Using a while_loop for converting Bitcast cause there is no registered converter for this op.\n",
            "WARNING:tensorflow:Using a while_loop for converting Bitcast cause there is no registered converter for this op.\n",
            "WARNING:tensorflow:Using a while_loop for converting StatelessRandomUniformV2 cause there is no registered converter for this op.\n",
            "WARNING:tensorflow:Using a while_loop for converting ImageProjectiveTransformV3 cause there is no registered converter for this op.\n",
            "WARNING:tensorflow:Using a while_loop for converting RngReadAndSkip cause there is no registered converter for this op.\n",
            "WARNING:tensorflow:Using a while_loop for converting Bitcast cause there is no registered converter for this op.\n",
            "WARNING:tensorflow:Using a while_loop for converting Bitcast cause there is no registered converter for this op.\n",
            "WARNING:tensorflow:Using a while_loop for converting StatelessRandomUniformV2 cause there is no registered converter for this op.\n",
            "WARNING:tensorflow:Using a while_loop for converting ImageProjectiveTransformV3 cause there is no registered converter for this op.\n"
          ]
        },
        {
          "output_type": "stream",
          "name": "stdout",
          "text": [
            "(32, 96, 96, 3)\n",
            "(32, 7)\n"
          ]
        }
      ]
    },
    {
      "cell_type": "code",
      "metadata": {
        "id": "qmEunSLQrmoy",
        "colab": {
          "base_uri": "https://localhost:8080/",
          "height": 303
        },
        "outputId": "9b9fa2a7-30f1-48e1-e0b9-ae0636eae8a2"
      },
      "source": [
        "print(encoder.inverse_transform(np.argmax(label , axis = 1))[0])\n",
        "plt.imshow((image[0].numpy()/255).reshape(96 , 96 , 3))"
      ],
      "execution_count": 15,
      "outputs": [
        {
          "output_type": "stream",
          "name": "stdout",
          "text": [
            "surprise\n"
          ]
        },
        {
          "output_type": "execute_result",
          "data": {
            "text/plain": [
              "<matplotlib.image.AxesImage at 0x7fda68f5ef10>"
            ]
          },
          "metadata": {},
          "execution_count": 15
        },
        {
          "output_type": "display_data",
          "data": {
            "text/plain": [
              "<Figure size 432x288 with 1 Axes>"
            ],
            "image/png": "[encoded data removed]"
          },
          "metadata": {
            "needs_background": "light"
          }
        }
      ]
    },
    {
      "cell_type": "code",
      "metadata": {
        "id": "Xi9IJStcoc6M",
        "colab": {
          "base_uri": "https://localhost:8080/"
        },
        "outputId": "5295bb65-8ae7-4aaa-f7f2-f826b0b06006"
      },
      "source": [
        "val = get_dataset(val , val_labels , train = False)\n",
        "\n",
        "image , label = next(iter(val))\n",
        "print(image.shape)\n",
        "print(label.shape)"
      ],
      "execution_count": 16,
      "outputs": [
        {
          "output_type": "stream",
          "name": "stdout",
          "text": [
            "(32, 96, 96, 3)\n",
            "(32, 7)\n"
          ]
        }
      ]
    },
    {
      "cell_type": "code",
      "metadata": {
        "id": "b_gqj-vjvErp",
        "colab": {
          "base_uri": "https://localhost:8080/",
          "height": 303
        },
        "outputId": "d47fe329-2347-47f6-e060-cc427c28a6e0"
      },
      "source": [
        "print(encoder.inverse_transform(np.argmax(label , axis = 1))[0])\n",
        "plt.imshow((image[0].numpy()/255).reshape(96 , 96 , 3))"
      ],
      "execution_count": 17,
      "outputs": [
        {
          "output_type": "stream",
          "name": "stdout",
          "text": [
            "sad\n"
          ]
        },
        {
          "output_type": "execute_result",
          "data": {
            "text/plain": [
              "<matplotlib.image.AxesImage at 0x7fda79fe0580>"
            ]
          },
          "metadata": {},
          "execution_count": 17
        },
        {
          "output_type": "display_data",
          "data": {
            "text/plain": [
              "<Figure size 432x288 with 1 Axes>"
            ],
            "image/png": "[encoded data removed]"
          },
          "metadata": {
            "needs_background": "light"
          }
        }
      ]
    },
    {
      "cell_type": "code",
      "metadata": {
        "colab": {
          "base_uri": "https://localhost:8080/"
        },
        "id": "9e32BWRjUuV6",
        "outputId": "ad92da7c-f5cb-4fce-8512-bfd95341b242"
      },
      "source": [
        "from tensorflow.keras.applications import EfficientNetB2\n",
        "\n",
        "backbone = EfficientNetB2(\n",
        "    input_shape=(96, 96, 3),\n",
        "    include_top=False\n",
        ")\n",
        "\n",
        "model = tf.keras.Sequential([\n",
        "    backbone,\n",
        "    tf.keras.layers.GlobalAveragePooling2D(),\n",
        "    tf.keras.layers.Dense(128, activation='relu'),\n",
        "    tf.keras.layers.Dense(7, activation='softmax')\n",
        "])\n",
        "\n",
        "model.summary()"
      ],
      "execution_count": 25,
      "outputs": [
        {
          "output_type": "stream",
          "name": "stdout",
          "text": [
            "Model: \"sequential_2\"\n",
            "_________________________________________________________________\n",
            " Layer (type)                Output Shape              Param #   \n",
            "=================================================================\n",
            " efficientnetb2 (Functional)  (None, 3, 3, 1408)       7768569   \n",
            "                                                                 \n",
            " global_average_pooling2d (G  (None, 1408)             0         \n",
            " lobalAveragePooling2D)                                          \n",
            "                                                                 \n",
            " dense (Dense)               (None, 128)               180352    \n",
            "                                                                 \n",
            " dense_1 (Dense)             (None, 7)                 903       \n",
            "                                                                 \n",
            "=================================================================\n",
            "Total params: 7,949,824\n",
            "Trainable params: 7,882,249\n",
            "Non-trainable params: 67,575\n",
            "_________________________________________________________________\n",
            "Model: \"sequential_3\"\n",
            "_________________________________________________________________\n",
            " Layer (type)                Output Shape              Param #   \n",
            "=================================================================\n",
            " efficientnetb2 (Functional)  (None, 3, 3, 1408)       7768569   \n",
            "                                                                 \n",
            " global_average_pooling2d_1   (None, 1408)             0         \n",
            " (GlobalAveragePooling2D)                                        \n",
            "                                                                 \n",
            " dense_2 (Dense)             (None, 128)               180352    \n",
            "                                                                 \n",
            " dense_3 (Dense)             (None, 7)                 903       \n",
            "                                                                 \n",
            "=================================================================\n",
            "Total params: 7,949,824\n",
            "Trainable params: 7,882,249\n",
            "Non-trainable params: 67,575\n",
            "_________________________________________________________________\n"
          ]
        }
      ]
    },
    {
      "cell_type": "code",
      "metadata": {
        "id": "crnP0rolUy0O"
      },
      "source": [
        "# Compiling your model by providing the Optimizer , Loss and Metrics\n",
        "model.compile(\n",
        "    optimizer=tf.keras.optimizers.Adam(learning_rate=0.001, beta_1=0.9, beta_2=0.999, epsilon=1e-07),\n",
        "    loss = 'categorical_crossentropy',\n",
        "    metrics=['accuracy']\n",
        ")"
      ],
      "execution_count": 26,
      "outputs": []
    },
    {
      "cell_type": "code",
      "metadata": {
        "id": "1IeOU2kKU5OT",
        "colab": {
          "base_uri": "https://localhost:8080/"
        },
        "outputId": "7ac69539-5c62-4645-e3f2-7531aedb14b3"
      },
      "source": [
        "# Train the model\n",
        "history = model.fit(\n",
        "    train,\n",
        "    steps_per_epoch=len(train)//BATCH_SIZE,\n",
        "    epochs=30,\n",
        "    validation_data=val,\n",
        "    validation_steps = len(val)//BATCH_SIZE,\n",
        "    class_weight=class_weight\n",
        ")"
      ],
      "execution_count": 27,
      "outputs": [
        {
          "output_type": "stream",
          "name": "stdout",
          "text": [
            "Epoch 1/30\n",
            "22/22 [==============================] - 63s 276ms/step - loss: 3.6667 - accuracy: 0.2287 - val_loss: 1.8795 - val_accuracy: 0.3125\n",
            "Epoch 2/30\n",
            "22/22 [==============================] - 3s 139ms/step - loss: 3.2772 - accuracy: 0.2528 - val_loss: 1.7996 - val_accuracy: 0.2875\n",
            "Epoch 3/30\n",
            "22/22 [==============================] - 4s 180ms/step - loss: 3.4201 - accuracy: 0.2457 - val_loss: 2.0049 - val_accuracy: 0.2000\n",
            "Epoch 4/30\n",
            "22/22 [==============================] - 3s 134ms/step - loss: 3.1942 - accuracy: 0.2955 - val_loss: 1.9717 - val_accuracy: 0.1562\n",
            "Epoch 5/30\n",
            "22/22 [==============================] - 3s 136ms/step - loss: 3.4363 - accuracy: 0.3097 - val_loss: 1.9418 - val_accuracy: 0.1688\n",
            "Epoch 6/30\n",
            "22/22 [==============================] - 3s 135ms/step - loss: 3.1759 - accuracy: 0.3068 - val_loss: 1.8631 - val_accuracy: 0.1813\n",
            "Epoch 7/30\n",
            "22/22 [==============================] - 4s 197ms/step - loss: 2.9828 - accuracy: 0.3494 - val_loss: 1.8268 - val_accuracy: 0.3750\n",
            "Epoch 8/30\n",
            "22/22 [==============================] - 3s 136ms/step - loss: 3.2040 - accuracy: 0.3054 - val_loss: 1.5737 - val_accuracy: 0.4125\n",
            "Epoch 9/30\n",
            "22/22 [==============================] - 3s 134ms/step - loss: 2.9967 - accuracy: 0.3196 - val_loss: 1.7292 - val_accuracy: 0.3375\n",
            "Epoch 10/30\n",
            "22/22 [==============================] - 3s 135ms/step - loss: 3.1818 - accuracy: 0.4134 - val_loss: 1.8086 - val_accuracy: 0.4000\n",
            "Epoch 11/30\n",
            "22/22 [==============================] - 4s 183ms/step - loss: 2.7766 - accuracy: 0.3778 - val_loss: 1.6742 - val_accuracy: 0.4563\n",
            "Epoch 12/30\n",
            "22/22 [==============================] - 3s 137ms/step - loss: 2.7105 - accuracy: 0.3906 - val_loss: 1.6245 - val_accuracy: 0.3125\n",
            "Epoch 13/30\n",
            "22/22 [==============================] - 3s 135ms/step - loss: 2.9330 - accuracy: 0.3750 - val_loss: 1.5923 - val_accuracy: 0.3875\n",
            "Epoch 14/30\n",
            "22/22 [==============================] - 3s 152ms/step - loss: 2.4051 - accuracy: 0.4418 - val_loss: 1.7025 - val_accuracy: 0.4187\n",
            "Epoch 15/30\n",
            "22/22 [==============================] - 4s 167ms/step - loss: 2.6447 - accuracy: 0.4460 - val_loss: 1.6341 - val_accuracy: 0.3625\n",
            "Epoch 16/30\n",
            "22/22 [==============================] - 3s 135ms/step - loss: 2.7267 - accuracy: 0.4347 - val_loss: 1.7995 - val_accuracy: 0.3500\n",
            "Epoch 17/30\n",
            "22/22 [==============================] - 3s 137ms/step - loss: 2.7034 - accuracy: 0.4134 - val_loss: 1.4256 - val_accuracy: 0.4313\n",
            "Epoch 18/30\n",
            "22/22 [==============================] - 4s 176ms/step - loss: 2.5679 - accuracy: 0.4361 - val_loss: 1.6942 - val_accuracy: 0.4688\n",
            "Epoch 19/30\n",
            "22/22 [==============================] - 3s 145ms/step - loss: 2.8334 - accuracy: 0.4631 - val_loss: 1.6088 - val_accuracy: 0.4563\n",
            "Epoch 20/30\n",
            "22/22 [==============================] - 3s 138ms/step - loss: 2.7034 - accuracy: 0.4389 - val_loss: 1.3893 - val_accuracy: 0.4688\n",
            "Epoch 21/30\n",
            "22/22 [==============================] - 3s 138ms/step - loss: 2.5921 - accuracy: 0.4602 - val_loss: 1.5099 - val_accuracy: 0.4000\n",
            "Epoch 22/30\n",
            "22/22 [==============================] - 4s 181ms/step - loss: 2.8297 - accuracy: 0.4048 - val_loss: 1.4639 - val_accuracy: 0.4563\n",
            "Epoch 23/30\n",
            "22/22 [==============================] - 3s 141ms/step - loss: 2.5935 - accuracy: 0.3892 - val_loss: 1.4142 - val_accuracy: 0.5125\n",
            "Epoch 24/30\n",
            "22/22 [==============================] - 3s 139ms/step - loss: 2.4777 - accuracy: 0.4929 - val_loss: 1.3818 - val_accuracy: 0.4938\n",
            "Epoch 25/30\n",
            "22/22 [==============================] - 3s 136ms/step - loss: 3.0105 - accuracy: 0.4048 - val_loss: 1.7684 - val_accuracy: 0.3250\n",
            "Epoch 26/30\n",
            "22/22 [==============================] - 4s 185ms/step - loss: 2.5725 - accuracy: 0.4474 - val_loss: 1.4807 - val_accuracy: 0.4375\n",
            "Epoch 27/30\n",
            "22/22 [==============================] - 3s 140ms/step - loss: 2.6165 - accuracy: 0.4673 - val_loss: 1.3731 - val_accuracy: 0.4938\n",
            "Epoch 28/30\n",
            "22/22 [==============================] - 3s 137ms/step - loss: 2.6775 - accuracy: 0.4688 - val_loss: 1.4639 - val_accuracy: 0.5125\n",
            "Epoch 29/30\n",
            "22/22 [==============================] - 3s 138ms/step - loss: 2.5371 - accuracy: 0.4702 - val_loss: 1.5597 - val_accuracy: 0.4750\n",
            "Epoch 30/30\n",
            "22/22 [==============================] - 4s 182ms/step - loss: 2.7091 - accuracy: 0.4503 - val_loss: 1.4248 - val_accuracy: 0.4625\n",
            "Epoch 1/30\n",
            "22/22 [==============================] - 57s 251ms/step - loss: 3.3562 - accuracy: 0.2628 - val_loss: 1.8717 - val_accuracy: 0.2562\n",
            "Epoch 2/30\n",
            "22/22 [==============================] - 4s 192ms/step - loss: 3.8781 - accuracy: 0.2599 - val_loss: 1.8792 - val_accuracy: 0.3438\n",
            "Epoch 3/30\n",
            "22/22 [==============================] - 3s 137ms/step - loss: 3.2717 - accuracy: 0.2372 - val_loss: 2.1168 - val_accuracy: 0.2562\n",
            "Epoch 4/30\n",
            "22/22 [==============================] - 3s 138ms/step - loss: 3.0143 - accuracy: 0.3153 - val_loss: 2.0576 - val_accuracy: 0.3562\n",
            "Epoch 5/30\n",
            "22/22 [==============================] - 4s 180ms/step - loss: 3.2563 - accuracy: 0.3750 - val_loss: 1.9695 - val_accuracy: 0.3125\n",
            "Epoch 6/30\n",
            "22/22 [==============================] - 4s 178ms/step - loss: 3.2102 - accuracy: 0.3011 - val_loss: 1.8565 - val_accuracy: 0.3000\n",
            "Epoch 7/30\n",
            "22/22 [==============================] - 3s 135ms/step - loss: 2.9667 - accuracy: 0.3651 - val_loss: 1.9257 - val_accuracy: 0.3438\n",
            "Epoch 8/30\n",
            "22/22 [==============================] - 3s 136ms/step - loss: 2.6627 - accuracy: 0.3920 - val_loss: 2.0691 - val_accuracy: 0.2438\n",
            "Epoch 9/30\n",
            "22/22 [==============================] - 3s 147ms/step - loss: 2.6068 - accuracy: 0.4347 - val_loss: 1.6768 - val_accuracy: 0.3500\n",
            "Epoch 10/30\n",
            "22/22 [==============================] - 4s 166ms/step - loss: 2.8404 - accuracy: 0.4048 - val_loss: 2.2373 - val_accuracy: 0.2125\n",
            "Epoch 11/30\n",
            "22/22 [==============================] - 3s 139ms/step - loss: 3.0084 - accuracy: 0.3409 - val_loss: 1.8396 - val_accuracy: 0.2937\n",
            "Epoch 12/30\n",
            "22/22 [==============================] - 3s 133ms/step - loss: 2.8986 - accuracy: 0.3438 - val_loss: 1.6344 - val_accuracy: 0.4125\n",
            "Epoch 13/30\n",
            "22/22 [==============================] - 4s 167ms/step - loss: 2.7027 - accuracy: 0.4375 - val_loss: 1.5257 - val_accuracy: 0.4000\n",
            "Epoch 14/30\n",
            "22/22 [==============================] - 3s 150ms/step - loss: 2.7254 - accuracy: 0.4219 - val_loss: 1.2567 - val_accuracy: 0.5312\n",
            "Epoch 15/30\n",
            "22/22 [==============================] - 3s 138ms/step - loss: 2.4257 - accuracy: 0.4375 - val_loss: 1.2404 - val_accuracy: 0.5063\n",
            "Epoch 16/30\n",
            "22/22 [==============================] - 3s 139ms/step - loss: 2.8078 - accuracy: 0.4957 - val_loss: 1.3922 - val_accuracy: 0.4500\n",
            "Epoch 17/30\n",
            "22/22 [==============================] - 4s 195ms/step - loss: 2.6512 - accuracy: 0.4119 - val_loss: 1.4983 - val_accuracy: 0.4187\n",
            "Epoch 18/30\n",
            "22/22 [==============================] - 3s 138ms/step - loss: 2.5571 - accuracy: 0.4474 - val_loss: 1.5969 - val_accuracy: 0.3688\n",
            "Epoch 19/30\n",
            "22/22 [==============================] - 3s 139ms/step - loss: 2.7368 - accuracy: 0.4048 - val_loss: 1.4570 - val_accuracy: 0.4437\n",
            "Epoch 20/30\n",
            "22/22 [==============================] - 3s 136ms/step - loss: 2.5815 - accuracy: 0.4119 - val_loss: 1.5893 - val_accuracy: 0.3688\n",
            "Epoch 21/30\n",
            "22/22 [==============================] - 4s 182ms/step - loss: 2.7974 - accuracy: 0.4361 - val_loss: 1.5260 - val_accuracy: 0.4625\n",
            "Epoch 22/30\n",
            "22/22 [==============================] - 3s 137ms/step - loss: 2.6335 - accuracy: 0.4148 - val_loss: 1.3866 - val_accuracy: 0.4688\n",
            "Epoch 23/30\n",
            "22/22 [==============================] - 3s 137ms/step - loss: 2.4663 - accuracy: 0.4730 - val_loss: 1.5590 - val_accuracy: 0.4125\n",
            "Epoch 24/30\n",
            "22/22 [==============================] - 3s 135ms/step - loss: 2.5355 - accuracy: 0.4460 - val_loss: 1.4057 - val_accuracy: 0.4375\n",
            "Epoch 25/30\n",
            "22/22 [==============================] - 4s 181ms/step - loss: 2.6531 - accuracy: 0.4688 - val_loss: 1.4558 - val_accuracy: 0.3875\n",
            "Epoch 26/30\n",
            "22/22 [==============================] - 3s 141ms/step - loss: 2.8612 - accuracy: 0.4460 - val_loss: 1.5362 - val_accuracy: 0.4000\n",
            "Epoch 27/30\n",
            "22/22 [==============================] - 3s 140ms/step - loss: 2.5306 - accuracy: 0.4418 - val_loss: 1.9107 - val_accuracy: 0.3500\n",
            "Epoch 28/30\n",
            "22/22 [==============================] - 3s 158ms/step - loss: 2.8277 - accuracy: 0.4602 - val_loss: 1.6073 - val_accuracy: 0.3750\n",
            "Epoch 29/30\n",
            "22/22 [==============================] - 4s 158ms/step - loss: 2.6371 - accuracy: 0.4560 - val_loss: 1.4439 - val_accuracy: 0.4313\n",
            "Epoch 30/30\n",
            "22/22 [==============================] - 3s 139ms/step - loss: 2.5702 - accuracy: 0.4361 - val_loss: 1.3988 - val_accuracy: 0.4875\n"
          ]
        }
      ]
    },
    {
      "cell_type": "markdown",
      "metadata": {
        "id": "vU6Sq7xag7t8"
      },
      "source": [
        "Testing Phase"
      ]
    },
    {
      "cell_type": "code",
      "metadata": {
        "id": "zaIUk_NRVJVJ"
      },
      "source": [
        "# Create a Dataset Object for 'Testing' Set just the way we did for Training and Validation\n",
        "test = list(test.glob(\"*/*\"))\n",
        "test = list(map(lambda x : str(x) , test))\n",
        "test_labels = list(map(lambda x : get_label(x) , test))\n",
        "\n",
        "test_labels = encoder.transform(test_labels)\n",
        "test_labels = tf.keras.utils.to_categorical(test_labels)\n",
        "\n",
        "test = tf.convert_to_tensor(test)\n",
        "test_labels = tf.convert_to_tensor(test_labels)\n",
        "\n",
        "def decode_image(image , label):\n",
        "    image = tf.io.read_file(image)\n",
        "    image = tf.io.decode_jpeg(image , channels = 3)\n",
        "    image = tf.image.resize(image , [96 , 96] , method=\"bilinear\")\n",
        "    return image , label\n",
        "\n",
        "test_dataset = (\n",
        "     tf.data.Dataset\n",
        "    .from_tensor_slices((test, test_labels))\n",
        "    .map(decode_image)\n",
        "    .batch(BATCH_SIZE)\n",
        ")"
      ],
      "execution_count": 33,
      "outputs": []
    },
    {
      "cell_type": "code",
      "metadata": {
        "colab": {
          "base_uri": "https://localhost:8080/"
        },
        "id": "uBIDOhxee0My",
        "outputId": "0d80dddb-155a-4e49-c364-14cb837783e6"
      },
      "source": [
        "# Verify Test Dataset Object\n",
        "image , label = next(iter(test_dataset))\n",
        "print(image.shape)\n",
        "print(label.shape)"
      ],
      "execution_count": 34,
      "outputs": [
        {
          "output_type": "stream",
          "name": "stdout",
          "text": [
            "(32, 96, 96, 3)\n",
            "(32, 7)\n"
          ]
        }
      ]
    },
    {
      "cell_type": "code",
      "metadata": {
        "colab": {
          "base_uri": "https://localhost:8080/",
          "height": 303
        },
        "id": "4ZGD3ogge2V-",
        "outputId": "721d6371-0f58-4aa6-ca3a-c503eeb3e33a"
      },
      "source": [
        "# View a sample Validation Image\n",
        "print(encoder.inverse_transform(np.argmax(label , axis = 1))[0])\n",
        "plt.imshow((image[0].numpy()/255).reshape(96 , 96 , 3))"
      ],
      "execution_count": 35,
      "outputs": [
        {
          "output_type": "stream",
          "name": "stdout",
          "text": [
            "angry\n"
          ]
        },
        {
          "output_type": "execute_result",
          "data": {
            "text/plain": [
              "<matplotlib.image.AxesImage at 0x7fd9b8cc59d0>"
            ]
          },
          "metadata": {},
          "execution_count": 35
        },
        {
          "output_type": "display_data",
          "data": {
            "text/plain": [
              "<Figure size 432x288 with 1 Axes>"
            ],
            "image/png": "[encoded data removed]"
          },
          "metadata": {
            "needs_background": "light"
          }
        }
      ]
    },
    {
      "cell_type": "code",
      "metadata": {
        "colab": {
          "base_uri": "https://localhost:8080/"
        },
        "id": "H8nmdlL5e4LB",
        "outputId": "e5152ce5-b78f-4bd2-ec98-2a1fed54dfab"
      },
      "source": [
        "# Evaluating the loaded model\n",
        "loss, acc = model.evaluate(test_dataset)"
      ],
      "execution_count": 36,
      "outputs": [
        {
          "output_type": "stream",
          "name": "stdout",
          "text": [
            "225/225 [==============================] - 10s 45ms/step - loss: 1.3699 - accuracy: 0.4798\n"
          ]
        }
      ]
    }
  ]
}